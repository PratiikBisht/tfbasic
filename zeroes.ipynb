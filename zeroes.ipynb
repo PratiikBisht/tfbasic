{
 "cells": [
  {
   "cell_type": "code",
   "execution_count": 3,
   "id": "bde23adb-1141-4385-8629-8ef5aae7c757",
   "metadata": {},
   "outputs": [],
   "source": [
    "import tensorflow as tf\n",
    "import numpy as np\n",
    "import pandas as pd"
   ]
  },
  {
   "cell_type": "code",
   "execution_count": 10,
   "id": "4cd13786-9eb0-43a1-b417-233133a0f1bd",
   "metadata": {},
   "outputs": [
    {
     "data": {
      "text/plain": [
       "<tf.Tensor: shape=(2, 2), dtype=int32, numpy=\n",
       "array([[0, 0],\n",
       "       [0, 0]])>"
      ]
     },
     "execution_count": 10,
     "metadata": {},
     "output_type": "execute_result"
    }
   ],
   "source": [
    "zeros2d= tf.zeros((2,2), dtype=tf.int32)\n",
    "zeros2d"
   ]
  },
  {
   "cell_type": "raw",
   "id": "948ab0b2-8030-4a92-9ad5-c127795a96fc",
   "metadata": {},
   "source": [
    "zeros3d= tf.zeros((2,2,4), dtype=tf.int32)\n",
    "zeros3d"
   ]
  },
  {
   "cell_type": "code",
   "execution_count": 13,
   "id": "548462f9-137b-4321-acce-c6d8fb0f1dd2",
   "metadata": {},
   "outputs": [
    {
     "data": {
      "text/plain": [
       "array([[[0, 0, 0, 0],\n",
       "        [0, 0, 0, 0]],\n",
       "\n",
       "       [[0, 0, 0, 0],\n",
       "        [0, 0, 0, 0]]])"
      ]
     },
     "execution_count": 13,
     "metadata": {},
     "output_type": "execute_result"
    }
   ],
   "source": [
    "zeros3d.dtype\n",
    "zeros3d.shape\n",
    "zeros3d.numpy()"
   ]
  },
  {
   "cell_type": "code",
   "execution_count": 15,
   "id": "55b90d6e-5ec7-4ec2-98be-61ad73115c02",
   "metadata": {},
   "outputs": [
    {
     "data": {
      "text/plain": [
       "<tf.Tensor: shape=(2, 3), dtype=int32, numpy=\n",
       "array([[1, 2, 3],\n",
       "       [4, 5, 6]])>"
      ]
     },
     "execution_count": 15,
     "metadata": {},
     "output_type": "execute_result"
    }
   ],
   "source": [
    "z=tf.constant([[1,2,3],[4,5,6]])\n",
    "z"
   ]
  },
  {
   "cell_type": "code",
   "execution_count": 17,
   "id": "380af3f9-719d-45d2-8aa3-3966833b9b71",
   "metadata": {},
   "outputs": [
    {
     "data": {
      "text/plain": [
       "<tf.Tensor: shape=(2, 3), dtype=bool, numpy=\n",
       "array([[False, False, False],\n",
       "       [False, False, False]])>"
      ]
     },
     "execution_count": 17,
     "metadata": {},
     "output_type": "execute_result"
    }
   ],
   "source": [
    "zeros_like= tf.zeros_like(z, dtype=tf.bool)\n",
    "zeros_like"
   ]
  },
  {
   "cell_type": "code",
   "execution_count": 23,
   "id": "7d9895f9-ae2a-462c-8237-a02b3889ac3e",
   "metadata": {},
   "outputs": [],
   "source": [
    "def zeros_variable(shape, dtype,intializer):\n",
    "    return tf.variable(initializer(shape=shape,dtype=dtype))"
   ]
  },
  {
   "cell_type": "code",
   "execution_count": 24,
   "id": "1d117ba4-70f0-4436-baf8-18ad8158134b",
   "metadata": {},
   "outputs": [
    {
     "ename": "AttributeError",
     "evalue": "module 'tensorflow' has no attribute 'variable'",
     "output_type": "error",
     "traceback": [
      "\u001b[1;31m---------------------------------------------------------------------------\u001b[0m",
      "\u001b[1;31mAttributeError\u001b[0m                            Traceback (most recent call last)",
      "Cell \u001b[1;32mIn[24], line 1\u001b[0m\n\u001b[1;32m----> 1\u001b[0m zerostf\u001b[38;5;241m=\u001b[39m\u001b[43mzeros_variable\u001b[49m\u001b[43m(\u001b[49m\u001b[43m(\u001b[49m\u001b[38;5;241;43m2\u001b[39;49m\u001b[43m,\u001b[49m\u001b[38;5;241;43m2\u001b[39;49m\u001b[43m)\u001b[49m\u001b[43m,\u001b[49m\u001b[43m \u001b[49m\u001b[43mtf\u001b[49m\u001b[38;5;241;43m.\u001b[39;49m\u001b[43mfloat32\u001b[49m\u001b[43m,\u001b[49m\u001b[43mtf\u001b[49m\u001b[38;5;241;43m.\u001b[39;49m\u001b[43mzeros_initializer\u001b[49m\u001b[43m(\u001b[49m\u001b[43m)\u001b[49m\u001b[43m)\u001b[49m\n\u001b[0;32m      2\u001b[0m zerostf\n",
      "Cell \u001b[1;32mIn[23], line 2\u001b[0m, in \u001b[0;36mzeros_variable\u001b[1;34m(shape, dtype, intializer)\u001b[0m\n\u001b[0;32m      1\u001b[0m \u001b[38;5;28;01mdef\u001b[39;00m \u001b[38;5;21mzeros_variable\u001b[39m(shape, dtype,intializer):\n\u001b[1;32m----> 2\u001b[0m     \u001b[38;5;28;01mreturn\u001b[39;00m \u001b[43mtf\u001b[49m\u001b[38;5;241;43m.\u001b[39;49m\u001b[43mvariable\u001b[49m(initializer(shape\u001b[38;5;241m=\u001b[39mshape,dtype\u001b[38;5;241m=\u001b[39mdtype))\n",
      "\u001b[1;31mAttributeError\u001b[0m: module 'tensorflow' has no attribute 'variable'"
     ]
    }
   ],
   "source": [
    "zerostf= zeros_variable((2,2), tf.float32,tf.zeros_initializer())\n",
    "zerostf"
   ]
  },
  {
   "cell_type": "code",
   "execution_count": null,
   "id": "18c3f526-bbd3-4328-8553-cf762007c17d",
   "metadata": {},
   "outputs": [],
   "source": []
  },
  {
   "cell_type": "code",
   "execution_count": null,
   "id": "494da05f-1e63-4f50-a2e5-f3dff6616768",
   "metadata": {},
   "outputs": [],
   "source": []
  },
  {
   "cell_type": "code",
   "execution_count": null,
   "id": "8f11a223-15d9-4a6d-811a-61cb851f92f8",
   "metadata": {},
   "outputs": [],
   "source": []
  },
  {
   "cell_type": "code",
   "execution_count": null,
   "id": "6328b803-7a01-469f-ac91-c3db740fcf25",
   "metadata": {},
   "outputs": [],
   "source": []
  },
  {
   "cell_type": "code",
   "execution_count": null,
   "id": "34e92bc7-8ae1-4b56-b15b-c3445f307040",
   "metadata": {},
   "outputs": [],
   "source": []
  },
  {
   "cell_type": "code",
   "execution_count": null,
   "id": "575ea09a-e1b6-473f-bcd0-8dfac30a60f1",
   "metadata": {},
   "outputs": [],
   "source": []
  },
  {
   "cell_type": "code",
   "execution_count": null,
   "id": "82bdeb3c-4716-438f-9bf5-7ec3e267d68a",
   "metadata": {},
   "outputs": [],
   "source": []
  },
  {
   "cell_type": "code",
   "execution_count": null,
   "id": "3086d676-9c88-40db-bd00-bf3b88724ed2",
   "metadata": {},
   "outputs": [],
   "source": []
  },
  {
   "cell_type": "code",
   "execution_count": null,
   "id": "63b9091a-add1-4c8d-9f73-1039656117cf",
   "metadata": {},
   "outputs": [],
   "source": []
  }
 ],
 "metadata": {
  "kernelspec": {
   "display_name": "Python 3 (ipykernel)",
   "language": "python",
   "name": "python3"
  },
  "language_info": {
   "codemirror_mode": {
    "name": "ipython",
    "version": 3
   },
   "file_extension": ".py",
   "mimetype": "text/x-python",
   "name": "python",
   "nbconvert_exporter": "python",
   "pygments_lexer": "ipython3",
   "version": "3.12.0"
  }
 },
 "nbformat": 4,
 "nbformat_minor": 5
}
