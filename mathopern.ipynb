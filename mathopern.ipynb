{
 "cells": [
  {
   "cell_type": "code",
   "execution_count": 1,
   "id": "77c864aa-1fc6-4c65-8bd7-562b4d44409a",
   "metadata": {},
   "outputs": [],
   "source": [
    "import tensorflow as tf\n",
    "import numpy as np"
   ]
  },
  {
   "cell_type": "code",
   "execution_count": null,
   "id": "ce7afc88-7212-44b9-8dca-afab0f30bd06",
   "metadata": {},
   "outputs": [],
   "source": [
    "#ADDITION"
   ]
  },
  {
   "cell_type": "code",
   "execution_count": 2,
   "id": "e754af31-ddef-4cda-9d27-447d048b3116",
   "metadata": {},
   "outputs": [
    {
     "data": {
      "text/plain": [
       "<tf.Tensor: shape=(), dtype=int32, numpy=30>"
      ]
     },
     "execution_count": 2,
     "metadata": {},
     "output_type": "execute_result"
    }
   ],
   "source": [
    "a =10\n",
    "b=20\n",
    "tf.add(a,b) # can be used for adding in list, tuple , numpy array,"
   ]
  },
  {
   "cell_type": "code",
   "execution_count": 5,
   "id": "5eb8d64b-775f-42c1-855e-d3715d5bb0ba",
   "metadata": {},
   "outputs": [
    {
     "data": {
      "text/plain": [
       "<tf.Tensor: shape=(4,), dtype=int32, numpy=array([11, 12, 13, 14])>"
      ]
     },
     "execution_count": 5,
     "metadata": {},
     "output_type": "execute_result"
    }
   ],
   "source": [
    "l1= [1,2,3,4]\n",
    "a= 10\n",
    "tf.add(l1,a) # also works with numpy array adddition, tf cona]satnt and scalar , variable, variable with scalar"
   ]
  },
  {
   "cell_type": "code",
   "execution_count": null,
   "id": "930c728f-2edc-46fd-87ef-7887856df0df",
   "metadata": {},
   "outputs": [],
   "source": [
    "#SUBTRACTION"
   ]
  },
  {
   "cell_type": "code",
   "execution_count": 4,
   "id": "9d0fa6e0-a5a5-45d4-b28e-4ed1aee5be85",
   "metadata": {},
   "outputs": [
    {
     "data": {
      "text/plain": [
       "<tf.Tensor: shape=(), dtype=int32, numpy=10>"
      ]
     },
     "execution_count": 4,
     "metadata": {},
     "output_type": "execute_result"
    }
   ],
   "source": [
    "tf.subtract(b,a)"
   ]
  },
  {
   "cell_type": "code",
   "execution_count": 6,
   "id": "08d36142-f338-4a7a-9649-a4626cfd2f2a",
   "metadata": {},
   "outputs": [
    {
     "data": {
      "text/plain": [
       "<tf.Tensor: shape=(4,), dtype=int32, numpy=array([9, 8, 7, 6])>"
      ]
     },
     "execution_count": 6,
     "metadata": {},
     "output_type": "execute_result"
    }
   ],
   "source": [
    "tf.subtract(a,l1) # can be used for adding in list, tuple , numpy array,also works with numpy array adddition, tf cona]satnt and scalar , variable, variable with scalar"
   ]
  },
  {
   "cell_type": "code",
   "execution_count": null,
   "id": "8a8990d2-d604-4835-b81a-9fd44d229ceb",
   "metadata": {},
   "outputs": [],
   "source": [
    "#MULTIPLICATION"
   ]
  },
  {
   "cell_type": "code",
   "execution_count": 3,
   "id": "1a446322-7fcd-4e40-9219-1cbd509c3fb0",
   "metadata": {},
   "outputs": [
    {
     "data": {
      "text/plain": [
       "<tf.Tensor: shape=(), dtype=int32, numpy=200>"
      ]
     },
     "execution_count": 3,
     "metadata": {},
     "output_type": "execute_result"
    }
   ],
   "source": [
    "a=10\n",
    "b=20\n",
    "tf.multiply(a,b)"
   ]
  },
  {
   "cell_type": "code",
   "execution_count": 4,
   "id": "faec7db1-557e-4e53-a884-c6ecf1e5397e",
   "metadata": {},
   "outputs": [
    {
     "data": {
      "text/plain": [
       "200"
      ]
     },
     "execution_count": 4,
     "metadata": {},
     "output_type": "execute_result"
    }
   ],
   "source": [
    "a*b"
   ]
  },
  {
   "cell_type": "code",
   "execution_count": 7,
   "id": "b6e0ffdd-8bc4-417c-98e1-50e2d974c790",
   "metadata": {},
   "outputs": [
    {
     "data": {
      "text/plain": [
       "<tf.Tensor: shape=(4,), dtype=int32, numpy=array([10, 20, 30, 40])>"
      ]
     },
     "execution_count": 7,
     "metadata": {},
     "output_type": "execute_result"
    }
   ],
   "source": [
    "tf.multiply(a,l1) # can be used for adding in list, tuple , numpy array,also works with numpy array adddition, tf cona]satnt and scalar , variable, variable with scalar"
   ]
  },
  {
   "cell_type": "code",
   "execution_count": null,
   "id": "9479ae5f-7f08-4c23-8142-77fd44bf0095",
   "metadata": {},
   "outputs": [],
   "source": [
    "#DIVISION"
   ]
  },
  {
   "cell_type": "code",
   "execution_count": 9,
   "id": "2284840d-486b-491e-bc0b-646a27157dc1",
   "metadata": {},
   "outputs": [
    {
     "data": {
      "text/plain": [
       "<tf.Tensor: shape=(5,), dtype=float64, numpy=array([ 5., 10., 15., 20., 25.])>"
      ]
     },
     "execution_count": 9,
     "metadata": {},
     "output_type": "execute_result"
    }
   ],
   "source": [
    "a=2\n",
    "b=[10,20,30,40,50]\n",
    "tf.divide(b,a) # array with array works, numpy array with scalar, numpy array with single array , tensor with scalar, 2 variable , numpy array with different shape"
   ]
  },
  {
   "cell_type": "code",
   "execution_count": null,
   "id": "ba59e823-30f8-4e39-8ea4-ad5b12c4ca19",
   "metadata": {},
   "outputs": [],
   "source": []
  },
  {
   "cell_type": "code",
   "execution_count": null,
   "id": "3b44b53f-0e79-4bab-9105-217caafa1ee8",
   "metadata": {},
   "outputs": [],
   "source": []
  },
  {
   "cell_type": "code",
   "execution_count": null,
   "id": "7fd31457-546a-4a2e-ab0e-64be996cdea3",
   "metadata": {},
   "outputs": [],
   "source": []
  }
 ],
 "metadata": {
  "kernelspec": {
   "display_name": "Python 3 (ipykernel)",
   "language": "python",
   "name": "python3"
  },
  "language_info": {
   "codemirror_mode": {
    "name": "ipython",
    "version": 3
   },
   "file_extension": ".py",
   "mimetype": "text/x-python",
   "name": "python",
   "nbconvert_exporter": "python",
   "pygments_lexer": "ipython3",
   "version": "3.12.0"
  }
 },
 "nbformat": 4,
 "nbformat_minor": 5
}
