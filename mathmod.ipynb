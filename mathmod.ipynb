{
 "cells": [
  {
   "cell_type": "code",
   "execution_count": 16,
   "id": "cc1066ca-9447-4a3a-8234-95a862118534",
   "metadata": {},
   "outputs": [],
   "source": [
    "#SQUARE ROOT "
   ]
  },
  {
   "cell_type": "code",
   "execution_count": 15,
   "id": "a8893d79-3ed6-4ea9-8e55-54b8e07295f0",
   "metadata": {},
   "outputs": [],
   "source": [
    "import numpy as np\n",
    "import tensorflow as tf"
   ]
  },
  {
   "cell_type": "code",
   "execution_count": 7,
   "id": "159c6bc1-b612-4290-96b0-a8e697a9e4f0",
   "metadata": {},
   "outputs": [],
   "source": [
    "a=9.0\n"
   ]
  },
  {
   "cell_type": "code",
   "execution_count": 9,
   "id": "124ce6ed-7d19-4b8a-857c-3576e99c47d2",
   "metadata": {},
   "outputs": [
    {
     "data": {
      "text/plain": [
       "<tf.Tensor: shape=(), dtype=float32, numpy=3.0>"
      ]
     },
     "execution_count": 9,
     "metadata": {},
     "output_type": "execute_result"
    }
   ],
   "source": [
    "tf.sqrt(a)"
   ]
  },
  {
   "cell_type": "code",
   "execution_count": 13,
   "id": "99d9b4a2-2ac7-4b34-9562-21abf05e4e59",
   "metadata": {},
   "outputs": [],
   "source": [
    "la=[13,14,.0,15]"
   ]
  },
  {
   "cell_type": "code",
   "execution_count": 14,
   "id": "a61a7235-a7f6-4932-bafe-af924cff39f6",
   "metadata": {},
   "outputs": [
    {
     "data": {
      "text/plain": [
       "<tf.Tensor: shape=(4,), dtype=float32, numpy=array([3.6055512, 3.7416575, 0.       , 3.8729835], dtype=float32)>"
      ]
     },
     "execution_count": 14,
     "metadata": {},
     "output_type": "execute_result"
    }
   ],
   "source": [
    "tf.sqrt(la)"
   ]
  },
  {
   "cell_type": "code",
   "execution_count": 17,
   "id": "b5003ebf-1f68-46a2-bb2c-d85415f6972a",
   "metadata": {},
   "outputs": [
    {
     "data": {
      "text/plain": [
       "<tf.Tensor: shape=(4,), dtype=float32, numpy=array([1.4142135, 1.7320508, 2.       , 2.236068 ], dtype=float32)>"
      ]
     },
     "execution_count": 17,
     "metadata": {},
     "output_type": "execute_result"
    }
   ],
   "source": [
    "npa=([2,3,4,5.0])\n",
    "tf.sqrt(npa)"
   ]
  },
  {
   "cell_type": "code",
   "execution_count": 18,
   "id": "bd917ebf-eee5-45c1-bc50-bfe010b71fa9",
   "metadata": {},
   "outputs": [
    {
     "ename": "AttributeError",
     "evalue": "'list' object has no attribute 'dtype'",
     "output_type": "error",
     "traceback": [
      "\u001b[1;31m---------------------------------------------------------------------------\u001b[0m",
      "\u001b[1;31mAttributeError\u001b[0m                            Traceback (most recent call last)",
      "Cell \u001b[1;32mIn[18], line 1\u001b[0m\n\u001b[1;32m----> 1\u001b[0m \u001b[43mnpa\u001b[49m\u001b[38;5;241;43m.\u001b[39;49m\u001b[43mdtype\u001b[49m\n",
      "\u001b[1;31mAttributeError\u001b[0m: 'list' object has no attribute 'dtype'"
     ]
    }
   ],
   "source": [
    "npa.dtype"
   ]
  },
  {
   "cell_type": "code",
   "execution_count": 21,
   "id": "34ca0958-f102-4b1f-8f4f-9991b470175f",
   "metadata": {},
   "outputs": [
    {
     "data": {
      "text/plain": [
       "array([[[[4.],\n",
       "         [4.],\n",
       "         [4.]]],\n",
       "\n",
       "\n",
       "       [[[4.],\n",
       "         [4.],\n",
       "         [4.]]]])"
      ]
     },
     "execution_count": 21,
     "metadata": {},
     "output_type": "execute_result"
    }
   ],
   "source": [
    "yp= np.ones(6).reshape(2,1,3,1)*4\n",
    "yp"
   ]
  },
  {
   "cell_type": "code",
   "execution_count": 22,
   "id": "4b088523-d2a9-49e5-99d4-c8117f03364d",
   "metadata": {},
   "outputs": [
    {
     "data": {
      "text/plain": [
       "<tf.Tensor: shape=(2, 1, 3, 1), dtype=float64, numpy=\n",
       "array([[[[2.],\n",
       "         [2.],\n",
       "         [2.]]],\n",
       "\n",
       "\n",
       "       [[[2.],\n",
       "         [2.],\n",
       "         [2.]]]])>"
      ]
     },
     "execution_count": 22,
     "metadata": {},
     "output_type": "execute_result"
    }
   ],
   "source": [
    "tf.sqrt(yp)"
   ]
  },
  {
   "cell_type": "code",
   "execution_count": 23,
   "id": "08bd5095-be08-448a-95c7-d1289e2c96b1",
   "metadata": {},
   "outputs": [
    {
     "data": {
      "text/plain": [
       "<tf.Tensor: shape=(3,), dtype=float32, numpy=array([2., 3., 4.], dtype=float32)>"
      ]
     },
     "execution_count": 23,
     "metadata": {},
     "output_type": "execute_result"
    }
   ],
   "source": [
    "#SQRT OF TF CONSTANT TENSOR\n",
    "tf_ct1=tf.constant([4,9,16], dtype='float')\n",
    "tf.sqrt(tf_ct1)"
   ]
  },
  {
   "cell_type": "code",
   "execution_count": null,
   "id": "896b2efa-e37e-4ea0-8b88-8b072a803535",
   "metadata": {},
   "outputs": [],
   "source": [
    "#POWER "
   ]
  },
  {
   "cell_type": "code",
   "execution_count": 26,
   "id": "e1e7c47b-2a8d-4575-a1e7-0523a7001947",
   "metadata": {},
   "outputs": [
    {
     "data": {
      "text/plain": [
       "<tf.Tensor: shape=(), dtype=int32, numpy=9>"
      ]
     },
     "execution_count": 26,
     "metadata": {},
     "output_type": "execute_result"
    }
   ],
   "source": [
    "tf.pow(3,2) # numpy,tesor, constant, tensortf, variable"
   ]
  },
  {
   "cell_type": "code",
   "execution_count": 28,
   "id": "20080dfc-224f-4cff-8da1-e205f9e1f6f5",
   "metadata": {},
   "outputs": [
    {
     "data": {
      "text/plain": [
       "<tf.Tensor: shape=(), dtype=int32, numpy=5>"
      ]
     },
     "execution_count": 28,
     "metadata": {},
     "output_type": "execute_result"
    }
   ],
   "source": [
    "tf.maximum(4,5)"
   ]
  },
  {
   "cell_type": "code",
   "execution_count": 29,
   "id": "3911dee6-d0bb-44ae-848f-01bbb89c6505",
   "metadata": {},
   "outputs": [
    {
     "data": {
      "text/plain": [
       "<tf.Tensor: shape=(3,), dtype=int32, numpy=array([56, 76, 89])>"
      ]
     },
     "execution_count": 29,
     "metadata": {},
     "output_type": "execute_result"
    }
   ],
   "source": [
    "a=[56,46,34]\n",
    "b=[53,76,89]\n",
    "tf.maximum(a,b) # tuple, with scalar, list with scalar,numpy with scalar2 tf constant tensor, tf constant with scalarr, "
   ]
  },
  {
   "cell_type": "code",
   "execution_count": 30,
   "id": "a7acc7da-0140-4227-ad42-41ff20acfcd9",
   "metadata": {},
   "outputs": [
    {
     "data": {
      "text/plain": [
       "<tf.Tensor: shape=(3,), dtype=int32, numpy=array([53, 46, 34])>"
      ]
     },
     "execution_count": 30,
     "metadata": {},
     "output_type": "execute_result"
    }
   ],
   "source": [
    "tf.minimum(a,b)"
   ]
  },
  {
   "cell_type": "code",
   "execution_count": null,
   "id": "b154ddc4-62da-4dd4-8c0e-17a7845d5623",
   "metadata": {},
   "outputs": [],
   "source": []
  },
  {
   "cell_type": "code",
   "execution_count": null,
   "id": "f9699a0d-77c5-418b-a960-29352d9bcd42",
   "metadata": {},
   "outputs": [],
   "source": []
  },
  {
   "cell_type": "code",
   "execution_count": null,
   "id": "faa9127c-081f-475e-9c2c-163181535514",
   "metadata": {},
   "outputs": [],
   "source": []
  },
  {
   "cell_type": "code",
   "execution_count": null,
   "id": "e5b59114-c09f-4ea4-9dc5-d26e9c81589f",
   "metadata": {},
   "outputs": [],
   "source": []
  },
  {
   "cell_type": "code",
   "execution_count": null,
   "id": "d6346877-9bdd-4103-95dc-9fd590d46b16",
   "metadata": {},
   "outputs": [],
   "source": []
  }
 ],
 "metadata": {
  "kernelspec": {
   "display_name": "Python 3 (ipykernel)",
   "language": "python",
   "name": "python3"
  },
  "language_info": {
   "codemirror_mode": {
    "name": "ipython",
    "version": 3
   },
   "file_extension": ".py",
   "mimetype": "text/x-python",
   "name": "python",
   "nbconvert_exporter": "python",
   "pygments_lexer": "ipython3",
   "version": "3.12.0"
  }
 },
 "nbformat": 4,
 "nbformat_minor": 5
}
