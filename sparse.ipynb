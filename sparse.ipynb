{
 "cells": [
  {
   "cell_type": "code",
   "execution_count": 1,
   "id": "aa3977fe-315c-41ee-aac1-7b5070439a76",
   "metadata": {},
   "outputs": [],
   "source": [
    "import tensorflow as tf"
   ]
  },
  {
   "cell_type": "code",
   "execution_count": 3,
   "id": "4e4ed801-ac23-40f0-bec8-4bd077971f1b",
   "metadata": {},
   "outputs": [
    {
     "data": {
      "text/plain": [
       "SparseTensor(indices=tf.Tensor(\n",
       "[[0 3]\n",
       " [2 4]], shape=(2, 2), dtype=int64), values=tf.Tensor([10 20], shape=(2,), dtype=int32), dense_shape=tf.Tensor([ 3 10], shape=(2,), dtype=int64))"
      ]
     },
     "execution_count": 3,
     "metadata": {},
     "output_type": "execute_result"
    }
   ],
   "source": [
    "st1=tf.SparseTensor(indices=[[0,3],[2,4]] , values=[10,20] , dense_shape=[3,10])\n",
    "st1"
   ]
  },
  {
   "cell_type": "code",
   "execution_count": 4,
   "id": "fc3394e3-5ece-42ab-ad3d-2715bd410edc",
   "metadata": {},
   "outputs": [],
   "source": [
    "import numpy as np"
   ]
  },
  {
   "cell_type": "code",
   "execution_count": 8,
   "id": "61af98b1-4217-45a7-8302-eb783c82324a",
   "metadata": {},
   "outputs": [
    {
     "data": {
      "text/plain": [
       "array([[1, 0, 0, 0],\n",
       "       [0, 0, 0, 0],\n",
       "       [0, 0, 4, 0],\n",
       "       [1, 0, 0, 2]])"
      ]
     },
     "execution_count": 8,
     "metadata": {},
     "output_type": "execute_result"
    }
   ],
   "source": [
    "np_array= np.array([[1,0,0,0],\n",
    "                   [0,0,0,0],\n",
    "                   [0,0,4,0],\n",
    "                   [1,0,0,2]])\n",
    "np_array"
   ]
  },
  {
   "cell_type": "code",
   "execution_count": 11,
   "id": "3e4c7fb7-69ba-4d68-9ba7-872796f3a8de",
   "metadata": {},
   "outputs": [
    {
     "data": {
      "text/plain": [
       "SparseTensor(indices=tf.Tensor(\n",
       "[[0 0]\n",
       " [2 2]\n",
       " [3 0]\n",
       " [3 3]], shape=(4, 2), dtype=int64), values=tf.Tensor([1 4 1 2], shape=(4,), dtype=int32), dense_shape=tf.Tensor([4 4], shape=(2,), dtype=int64))"
      ]
     },
     "execution_count": 11,
     "metadata": {},
     "output_type": "execute_result"
    }
   ],
   "source": [
    "st2= tf.sparse.from_dense(np_array)\n",
    "st2"
   ]
  },
  {
   "cell_type": "code",
   "execution_count": 14,
   "id": "85b6b763-6ce3-4e77-af12-725ae01fd49b",
   "metadata": {},
   "outputs": [
    {
     "data": {
      "text/plain": [
       "[1, 4, 1, 2]"
      ]
     },
     "execution_count": 14,
     "metadata": {},
     "output_type": "execute_result"
    }
   ],
   "source": [
    "st2.values.numpy().tolist()"
   ]
  },
  {
   "cell_type": "code",
   "execution_count": 16,
   "id": "aa273f4f-9ec7-4cb1-96ba-4143fc27880a",
   "metadata": {},
   "outputs": [
    {
     "data": {
      "text/plain": [
       "[[0, 0], [2, 2], [3, 0], [3, 3]]"
      ]
     },
     "execution_count": 16,
     "metadata": {},
     "output_type": "execute_result"
    }
   ],
   "source": [
    "st2.indices.numpy().tolist()"
   ]
  },
  {
   "cell_type": "markdown",
   "id": "097592fa-8757-425b-b6ac-7261a05fc4ab",
   "metadata": {},
   "source": [
    "#SPARSE TO DENSE"
   ]
  },
  {
   "cell_type": "code",
   "execution_count": 18,
   "id": "f464eb39-caa5-43a3-acc5-263526946473",
   "metadata": {},
   "outputs": [
    {
     "data": {
      "text/plain": [
       "<tf.Tensor: shape=(4, 4), dtype=int32, numpy=\n",
       "array([[1, 0, 0, 0],\n",
       "       [0, 0, 0, 0],\n",
       "       [0, 0, 4, 0],\n",
       "       [1, 0, 0, 2]])>"
      ]
     },
     "execution_count": 18,
     "metadata": {},
     "output_type": "execute_result"
    }
   ],
   "source": [
    "tf.sparse.to_dense(st2)"
   ]
  },
  {
   "cell_type": "code",
   "execution_count": 20,
   "id": "48f17c84-b844-47ff-8591-9364b7d999a3",
   "metadata": {},
   "outputs": [
    {
     "data": {
      "text/plain": [
       "SparseTensor(indices=tf.Tensor(\n",
       "[[0 0]\n",
       " [2 2]\n",
       " [3 0]\n",
       " [3 3]], shape=(4, 2), dtype=int64), values=tf.Tensor([2 8 2 4], shape=(4,), dtype=int32), dense_shape=tf.Tensor([4 4], shape=(2,), dtype=int64))"
      ]
     },
     "execution_count": 20,
     "metadata": {},
     "output_type": "execute_result"
    }
   ],
   "source": [
    "st_add=tf.sparse.add(st2, st2)\n",
    "st_add"
   ]
  },
  {
   "cell_type": "code",
   "execution_count": 22,
   "id": "a72c2fdc-b2cc-469b-b5dc-4afb989a2151",
   "metadata": {},
   "outputs": [
    {
     "data": {
      "text/plain": [
       "array([[2, 0, 0, 0],\n",
       "       [0, 0, 0, 0],\n",
       "       [0, 0, 8, 0],\n",
       "       [2, 0, 0, 4]])"
      ]
     },
     "execution_count": 22,
     "metadata": {},
     "output_type": "execute_result"
    }
   ],
   "source": [
    "tf.sparse.to_dense(st_add).numpy()"
   ]
  },
  {
   "cell_type": "code",
   "execution_count": null,
   "id": "7c608726-8b28-4b9e-bd93-42cccdaaae89",
   "metadata": {},
   "outputs": [],
   "source": []
  },
  {
   "cell_type": "code",
   "execution_count": null,
   "id": "27293403-f5d3-4526-a0ee-bdaeb63b3f21",
   "metadata": {},
   "outputs": [],
   "source": []
  }
 ],
 "metadata": {
  "kernelspec": {
   "display_name": "Python 3 (ipykernel)",
   "language": "python",
   "name": "python3"
  },
  "language_info": {
   "codemirror_mode": {
    "name": "ipython",
    "version": 3
   },
   "file_extension": ".py",
   "mimetype": "text/x-python",
   "name": "python",
   "nbconvert_exporter": "python",
   "pygments_lexer": "ipython3",
   "version": "3.12.0"
  }
 },
 "nbformat": 4,
 "nbformat_minor": 5
}
